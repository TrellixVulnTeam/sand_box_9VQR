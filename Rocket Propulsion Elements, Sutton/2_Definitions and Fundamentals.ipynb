{
 "cells": [
  {
   "cell_type": "code",
   "execution_count": 3,
   "metadata": {},
   "outputs": [
    {
     "name": "stdout",
     "output_type": "stream",
     "text": [
      "373.12\n"
     ]
    }
   ],
   "source": [
    "from CoolProp.CoolProp import PropsSI\n",
    "Output = round(PropsSI('T', 'P', 101325, 'Q', 0, 'Water'),2)\n",
    "print(Output)"
   ]
  },
  {
   "cell_type": "code",
   "execution_count": 4,
   "metadata": {},
   "outputs": [
    {
     "name": "stdout",
     "output_type": "stream",
     "text": [
      "166.67\n",
      "144.32\n"
     ]
    }
   ],
   "source": [
    "# 1. A jet of fluid hits a stationary flat plate\n",
    "\n",
    "def momentum_thrust(mdot, vel, p2, p3, A2):\n",
    "    # eq. (2-14), p.35\n",
    "\n",
    "    force = mdot * vel + (p2 - p3) * A2\n",
    "\n",
    "    return force\n",
    "\n",
    "#   a) If there is 50 kg of fluid flowing per minute at an absolute velocity of 200 m/s, what will be the force on the plate?\n",
    "\n",
    "flow = 50.0 # kg/min\n",
    "flow = flow / 60 # Convert to kg/s\n",
    "\n",
    "speed = 200.0 # m/s\n",
    "\n",
    "print(round(momentum_thrust(flow, speed, 0, 0, 0),2))\n",
    "\n",
    "#   b) What will this force be if the plate moves in the direction of the flow at u = 50 km/h\n",
    "\n",
    "rhoa = flow / speed # Mass flow inherently has a velocity component included, therefore rho * A must be evaluated to adjust the relative velocity\n",
    "\n",
    "delta_speed = 50.0 # km/h\n",
    "delta_speed = delta_speed * 1000 / 60 / 60 # Convert to m/s\n",
    "\n",
    "speed = speed - delta_speed # Determine relative velocity\n",
    "\n",
    "flow = rhoa * speed # Update mass flow as a function of relative velocity\n",
    "\n",
    "print(round(momentum_thrust(flow, speed, 0, 0, 0),2))"
   ]
  },
  {
   "cell_type": "code",
   "execution_count": 2,
   "metadata": {},
   "outputs": [
    {
     "name": "stdout",
     "output_type": "stream",
     "text": [
      "2300.49\n",
      "2646130.2\n",
      "0.38\n",
      "0.34\n",
      "0.13\n",
      "234.5\n",
      "0.00426\n"
     ]
    }
   ],
   "source": [
    "# 2. The following data are given for a certain rocket:\n",
    "\n",
    "thrust = 8896.0 # N\n",
    "prop_mdot = 3.867 # kg/s\n",
    "veh_vel = 400.0 # m/s\n",
    "prop_energy = 6.911 # MJ/kg\n",
    "eta_combustion = 1.0 # % (no combustion efficiency losses)\n",
    "\n",
    "# Determine:\n",
    "\n",
    "#   a) Effective velocity\n",
    "effective_vel = thrust / prop_mdot # Ref. eq. (2-14), assuming p2 and p3 equal\n",
    "print(round(effective_vel,2))\n",
    "\n",
    "#   b) Kinetic jet energy rate per unit propellant flow\n",
    "jet_energy = (0.5 * thrust * effective_vel) # Ref. eq. (2-19) \n",
    "\n",
    "jet_energy_mdot = jet_energy / prop_mdot # Divided by the propellant flowrate\n",
    "print(round(jet_energy_mdot,2))\n",
    "\n",
    "#   c) Internal efficiency\n",
    "prop_energy = prop_energy * 10**6 # Convert to J\n",
    "P_chem = prop_mdot * prop_energy # Ref. eq. (2-20)\n",
    "\n",
    "eta_int = jet_energy / (eta_combustion * P_chem) # Ref. eq. (2-22)\n",
    "print(round(eta_int,2))\n",
    "\n",
    "#   d) Propulsive efficiency\n",
    "P_veh = thrust * veh_vel # Ref. eq. (2-21)\n",
    "\n",
    "eta_prop = P_veh / (P_veh + 0.5 * prop_mdot*(effective_vel - veh_vel)**2)\n",
    "print(round(eta_prop,2))\n",
    "\n",
    "#   e) Overal efficiency\n",
    "eta_overall = eta_combustion * eta_int * eta_prop # Multiplying efficiencies\n",
    "print(round(eta_overall,2))\n",
    "\n",
    "#   f) Specific impulse\n",
    "specific_impulse = thrust / (prop_mdot * 9.81) # Ref. eq. (2-5)\n",
    "print(round(specific_impulse,2))\n",
    "\n",
    "#   g) Specific propellant consumption\n",
    "specific_prop_mdot = 1 / specific_impulse # Ref. p.30\n",
    "print(round(specific_prop_mdot,5))"
   ]
  },
  {
   "cell_type": "code",
   "execution_count": null,
   "metadata": {},
   "outputs": [],
   "source": [
    "# 3. A certain rocket has an effective exhaust velocity"
   ]
  }
 ],
 "metadata": {
  "interpreter": {
   "hash": "36aba8ef21a99fe03c38c27bb759b5d64c80126b54c4ac97108392fbd83b9c4c"
  },
  "kernelspec": {
   "display_name": "Python 2.7.18 64-bit ('PropEnv': venv)",
   "name": "python3"
  },
  "language_info": {
   "codemirror_mode": {
    "name": "ipython",
    "version": 2
   },
   "file_extension": ".py",
   "mimetype": "text/x-python",
   "name": "python",
   "nbconvert_exporter": "python",
   "pygments_lexer": "ipython2",
   "version": "2.7.18"
  },
  "orig_nbformat": 4
 },
 "nbformat": 4,
 "nbformat_minor": 2
}
