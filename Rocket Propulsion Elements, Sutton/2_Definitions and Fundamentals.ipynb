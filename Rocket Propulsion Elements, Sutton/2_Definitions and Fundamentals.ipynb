{
 "cells": [
  {
   "cell_type": "code",
   "execution_count": 1,
   "source": [
    "from CoolProp.CoolProp import PropsSI\r\n",
    "Output = round(PropsSI('T', 'P', 101325, 'Q', 0, 'Water'),2)\r\n",
    "print(Output)"
   ],
   "outputs": [
    {
     "output_type": "stream",
     "name": "stdout",
     "text": [
      "373.12\n"
     ]
    }
   ],
   "metadata": {}
  },
  {
   "cell_type": "code",
   "execution_count": null,
   "source": [],
   "outputs": [],
   "metadata": {}
  }
 ],
 "metadata": {
  "orig_nbformat": 4,
  "language_info": {
   "mimetype": "text/x-python",
   "nbconvert_exporter": "python",
   "name": "python",
   "pygments_lexer": "ipython2",
   "version": "2.7.18",
   "file_extension": ".py",
   "codemirror_mode": {
    "version": 2,
    "name": "ipython"
   }
  },
  "kernelspec": {
   "name": "python3",
   "display_name": "Python 2.7.18 64-bit (system)"
  },
  "interpreter": {
   "hash": "6df7d1eb2a88759ded2e8556cbec2a718a35b06d0f879422f85797e79161a2c1"
  }
 },
 "nbformat": 4,
 "nbformat_minor": 2
}