{
 "cells": [
  {
   "cell_type": "code",
   "execution_count": 1,
   "source": [
    "from CoolProp.CoolProp import PropsSI\r\n",
    "Output = round(PropsSI('T', 'P', 101325, 'Q', 0, 'Water'),2)\r\n",
    "print(Output)"
   ],
   "outputs": [
    {
     "output_type": "stream",
     "name": "stdout",
     "text": [
      "373.12\n"
     ]
    }
   ],
   "metadata": {}
  },
  {
   "cell_type": "code",
   "execution_count": 16,
   "source": [
    "# 1. A jet of fluid hits a stationary flat plate\r\n",
    "\r\n",
    "def momentum_thrust(mdot, vel, p2, p3, A2):\r\n",
    "    # eq. (2-14), p.35\r\n",
    "\r\n",
    "    force = mdot * vel + (p2 - p3) * A2\r\n",
    "\r\n",
    "    return force\r\n",
    "\r\n",
    "#   a) If there is 50 kg of fluid flowing per minute at an absolute velocity of 200 m/s, what will be the force on the plate?\r\n",
    "\r\n",
    "flow = 50.0 # kg/min\r\n",
    "flow = flow / 60 # Convert to kg/s\r\n",
    "\r\n",
    "speed = 200.0 # m/s\r\n",
    "\r\n",
    "print(round(momentum_thrust(flow, speed, 0, 0, 0),2))\r\n",
    "\r\n",
    "#   b) What will this force be if the plate moves in the direction of the flow at u = 50 km/h\r\n",
    "\r\n",
    "rhoa = flow / speed # Mass flow inherently has a velocity component included, therefore rho * A must be evaluated to adjust the relative velocity\r\n",
    "\r\n",
    "delta_speed = 50.0 # km/h\r\n",
    "delta_speed = delta_speed * 1000 / 60 / 60 # Convert to m/s\r\n",
    "\r\n",
    "speed = speed - delta_speed # Determine relative velocity\r\n",
    "\r\n",
    "flow = rhoa * speed # Update mass flow as a function of relative velocity\r\n",
    "\r\n",
    "print(round(momentum_thrust(flow, speed, 0, 0, 0),2))"
   ],
   "outputs": [
    {
     "output_type": "stream",
     "name": "stdout",
     "text": [
      "166.67\n",
      "144.32\n"
     ]
    }
   ],
   "metadata": {}
  },
  {
   "cell_type": "code",
   "execution_count": 40,
   "source": [
    "# 2. The following data are given for a certain rocket:\r\n",
    "\r\n",
    "thrust = 8896.0 # N\r\n",
    "prop_mdot = 3.867 # kg/s\r\n",
    "veh_vel = 400.0 # m/s\r\n",
    "prop_energy = 6.911 # MJ/kg\r\n",
    "eta_combustion = 1.0 # % (no combustion efficiency losses)\r\n",
    "\r\n",
    "# Determine:\r\n",
    "\r\n",
    "#   a) Effective velocity\r\n",
    "effective_vel = thrust / prop_mdot # Ref. eq. (2-14), assuming p2 and p3 equal\r\n",
    "print(round(effective_vel,2))\r\n",
    "\r\n",
    "#   b) Kinetic jet energy rate per unit propellant flow\r\n",
    "jet_energy = (0.5 * thrust * effective_vel) # Ref. eq. (2-19) \r\n",
    "\r\n",
    "jet_energy_mdot = jet_energy / prop_mdot # Divided by the propellant flowrate\r\n",
    "print(round(jet_energy_mdot,2))\r\n",
    "\r\n",
    "#   c) Internal efficiency\r\n",
    "prop_energy = prop_energy * 10**6 # Convert to J\r\n",
    "P_chem = prop_mdot * prop_energy # Ref. eq. (2-20)\r\n",
    "\r\n",
    "eta_int = jet_energy / (eta_combustion * P_chem) # Ref. eq. (2-22)\r\n",
    "print(round(eta_int,2))\r\n",
    "\r\n",
    "#   d) Propulsive efficiency\r\n",
    "P_veh = thrust * veh_vel # Ref. eq. (2-21)\r\n",
    "\r\n",
    "eta_prop = P_veh / (P_veh + 0.5 * prop_mdot*(effective_vel - veh_vel)**2)\r\n",
    "print(round(eta_prop,2))\r\n",
    "\r\n",
    "#   e) Overal efficiency\r\n",
    "eta_overall = eta_combustion * eta_int * eta_prop # Multiplying efficiencies\r\n",
    "print(round(eta_overall,2))\r\n",
    "\r\n",
    "#   f) Specific impulse\r\n",
    "specific_impulse = thrust / (prop_mdot * 9.81) # Ref. eq. (2-5)\r\n",
    "print(round(specific_impulse,2))\r\n",
    "\r\n",
    "#   g) Specific propellant consumption\r\n",
    "specific_prop_mdot = 1 / specific_impulse # Ref. p.30\r\n",
    "print(round(specific_prop_mdot,5))"
   ],
   "outputs": [
    {
     "output_type": "stream",
     "name": "stdout",
     "text": [
      "2300.49\n",
      "2646130.2\n",
      "0.38\n",
      "0.34\n",
      "0.13\n",
      "234.5\n",
      "0.00426\n"
     ]
    }
   ],
   "metadata": {}
  },
  {
   "cell_type": "code",
   "execution_count": null,
   "source": [
    "# 3. A certain rocket has an effective exhaust velocity"
   ],
   "outputs": [],
   "metadata": {}
  }
 ],
 "metadata": {
  "orig_nbformat": 4,
  "language_info": {
   "mimetype": "text/x-python",
   "nbconvert_exporter": "python",
   "name": "python",
   "pygments_lexer": "ipython2",
   "version": "2.7.18",
   "file_extension": ".py",
   "codemirror_mode": {
    "version": 2,
    "name": "ipython"
   }
  },
  "kernelspec": {
   "name": "python3",
   "display_name": "Python 2.7.18 64-bit ('PropEnv': venv)"
  },
  "interpreter": {
   "hash": "36aba8ef21a99fe03c38c27bb759b5d64c80126b54c4ac97108392fbd83b9c4c"
  }
 },
 "nbformat": 4,
 "nbformat_minor": 2
}